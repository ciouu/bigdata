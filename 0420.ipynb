{
  "nbformat": 4,
  "nbformat_minor": 0,
  "metadata": {
    "colab": {
      "name": "0420.ipynb",
      "provenance": [],
      "collapsed_sections": [],
      "include_colab_link": true
    },
    "kernelspec": {
      "name": "ir",
      "display_name": "R"
    }
  },
  "cells": [
    {
      "cell_type": "markdown",
      "metadata": {
        "id": "view-in-github",
        "colab_type": "text"
      },
      "source": [
        "<a href=\"https://colab.research.google.com/github/ciouu/bigdata/blob/main/0420.ipynb\" target=\"_parent\"><img src=\"https://colab.research.google.com/assets/colab-badge.svg\" alt=\"Open In Colab\"/></a>"
      ]
    },
    {
      "cell_type": "code",
      "metadata": {
        "id": "5-r2z7FTMl3P",
        "colab": {
          "base_uri": "https://localhost:8080/"
        },
        "outputId": "57a530f1-efc2-4aff-ed9c-2980797dbfcf"
      },
      "source": [
        "  install.packages(\"SportsAnalytics\")"
      ],
      "execution_count": 6,
      "outputs": [
        {
          "output_type": "stream",
          "text": [
            "Installing package into ‘/usr/local/lib/R/site-library’\n",
            "(as ‘lib’ is unspecified)\n",
            "\n"
          ],
          "name": "stderr"
        }
      ]
    },
    {
      "cell_type": "code",
      "metadata": {
        "id": "xFzpIr8rVW0O"
      },
      "source": [
        " library(SportsAnalytics)\n",
        "  NBA1516<-fetch_NBAPlayerStatistics(\"15-16\")"
      ],
      "execution_count": 7,
      "outputs": []
    },
    {
      "cell_type": "code",
      "metadata": {
        "id": "CJPBxZZyWrl9"
      },
      "source": [
        "NBA1516OrderM<-NBA1516[order(NBA1516$TotalMinutesPlayed,decreasing=T),]"
      ],
      "execution_count": 8,
      "outputs": []
    },
    {
      "cell_type": "code",
      "metadata": {
        "colab": {
          "base_uri": "https://localhost:8080/",
          "height": 84
        },
        "id": "lmepc76EW2oQ",
        "outputId": "0da5936b-a19f-4745-cfcf-0252e1eb0ee5"
      },
      "source": [
        "NBA1516OrderM[1:20, \"Name\"]"
      ],
      "execution_count": 9,
      "outputs": [
        {
          "output_type": "display_data",
          "data": {
            "text/plain": [
              " [1] \"James Harden\"     \"Gordon Hayward\"   \"Kemba Walker\"     \"Trevor Ariza\"    \n",
              " [5] \"Khris Middleton\"  \"Kyle Lowry\"       \"Marcus Morris\"    \"Andrew Wiggins\"  \n",
              " [9] \"Paul George\"      \"Gi Antetokounmpo\" \"Draymond Green\"   \"Demar Derozan\"   \n",
              "[13] \"Ke Caldwell-pope\" \"John Wall\"        \"C.j. Mccollum\"    \"Russel Westbrook\"\n",
              "[17] \"Monta Ellis\"      \"Lebron James\"     \"Stephen Curry\"    \"Joe Johnson\"     "
            ],
            "text/latex": "\\begin{enumerate*}\n\\item 'James Harden'\n\\item 'Gordon Hayward'\n\\item 'Kemba Walker'\n\\item 'Trevor Ariza'\n\\item 'Khris Middleton'\n\\item 'Kyle Lowry'\n\\item 'Marcus Morris'\n\\item 'Andrew Wiggins'\n\\item 'Paul George'\n\\item 'Gi Antetokounmpo'\n\\item 'Draymond Green'\n\\item 'Demar Derozan'\n\\item 'Ke Caldwell-pope'\n\\item 'John Wall'\n\\item 'C.j. Mccollum'\n\\item 'Russel Westbrook'\n\\item 'Monta Ellis'\n\\item 'Lebron James'\n\\item 'Stephen Curry'\n\\item 'Joe Johnson'\n\\end{enumerate*}\n",
            "text/markdown": "1. 'James Harden'\n2. 'Gordon Hayward'\n3. 'Kemba Walker'\n4. 'Trevor Ariza'\n5. 'Khris Middleton'\n6. 'Kyle Lowry'\n7. 'Marcus Morris'\n8. 'Andrew Wiggins'\n9. 'Paul George'\n10. 'Gi Antetokounmpo'\n11. 'Draymond Green'\n12. 'Demar Derozan'\n13. 'Ke Caldwell-pope'\n14. 'John Wall'\n15. 'C.j. Mccollum'\n16. 'Russel Westbrook'\n17. 'Monta Ellis'\n18. 'Lebron James'\n19. 'Stephen Curry'\n20. 'Joe Johnson'\n\n\n",
            "text/html": [
              "<style>\n",
              ".list-inline {list-style: none; margin:0; padding: 0}\n",
              ".list-inline>li {display: inline-block}\n",
              ".list-inline>li:not(:last-child)::after {content: \"\\00b7\"; padding: 0 .5ex}\n",
              "</style>\n",
              "<ol class=list-inline><li>'James Harden'</li><li>'Gordon Hayward'</li><li>'Kemba Walker'</li><li>'Trevor Ariza'</li><li>'Khris Middleton'</li><li>'Kyle Lowry'</li><li>'Marcus Morris'</li><li>'Andrew Wiggins'</li><li>'Paul George'</li><li>'Gi Antetokounmpo'</li><li>'Draymond Green'</li><li>'Demar Derozan'</li><li>'Ke Caldwell-pope'</li><li>'John Wall'</li><li>'C.j. Mccollum'</li><li>'Russel Westbrook'</li><li>'Monta Ellis'</li><li>'Lebron James'</li><li>'Stephen Curry'</li><li>'Joe Johnson'</li></ol>\n"
            ]
          },
          "metadata": {
            "tags": []
          }
        }
      ]
    },
    {
      "cell_type": "code",
      "metadata": {
        "colab": {
          "base_uri": "https://localhost:8080/",
          "height": 793
        },
        "id": "_GkIwjidXUvh",
        "outputId": "83b6f233-6ed3-449b-bfdc-28b06b19c5cf"
      },
      "source": [
        "subset(NBA1516,Team==\"GSW\")"
      ],
      "execution_count": 10,
      "outputs": [
        {
          "output_type": "display_data",
          "data": {
            "text/plain": [
              "    League Name             Team Position GamesPlayed TotalMinutesPlayed\n",
              "32  NBA    Leandro Barbosa  GSW  SG       68          1079              \n",
              "35  NBA    Harrison Barnes  GSW  SF       66          2043              \n",
              "55  NBA    Andrew Bogut     GSW  C        70          1452              \n",
              "88  NBA    Ian Clark        GSW  SG       66           579              \n",
              "106 NBA    Stephen Curry    GSW  PG       79          2705              \n",
              "136 NBA    Festus Ezeli     GSW  C        46           769              \n",
              "167 NBA    Draymond Green   GSW  SF       81          2807              \n",
              "215 NBA    Andre Iguodala   GSW  SG       65          1736              \n",
              "269 NBA    Shaun Livingston GSW  PG       78          1512              \n",
              "270 NBA    Kevon Looney     GSW  SF        5            21              \n",
              "286 NBA    James Mcadoo     GSW  SG       41           265              \n",
              "385 NBA    Brandon Rush     GSW  SG       72          1050              \n",
              "408 NBA    Marrees Speights GSW  C        72           836              \n",
              "426 NBA    Klay Thompson    GSW  SG       80          2661              \n",
              "437 NBA    Anderson Varejao GSW  C        53           494              \n",
              "    FieldGoalsMade FieldGoalsAttempted ThreesMade ThreesAttempted ⋯ Steals\n",
              "32  171             370                 39        111             ⋯  44   \n",
              "35  295             633                 82        214             ⋯  41   \n",
              "55  175             279                  1          1             ⋯  32   \n",
              "88   89             202                 30         84             ⋯  17   \n",
              "106 805            1597                402        887             ⋯ 169   \n",
              "136 125             228                  0          0             ⋯  18   \n",
              "167 401             819                100        258             ⋯ 118   \n",
              "215 176             368                 54        154             ⋯  73   \n",
              "269 203             379                  2         12             ⋯  57   \n",
              "270   4               7                  1          2             ⋯   0   \n",
              "286  45              84                  1          2             ⋯  10   \n",
              "385 111             260                 65        157             ⋯  21   \n",
              "408 197             456                 24         62             ⋯  19   \n",
              "426 651            1386                276        648             ⋯  60   \n",
              "437  53             124                  0          1             ⋯  16   \n",
              "    Turnovers Blocks PersonalFouls Disqualifications TotalPoints Technicals\n",
              "32   53        10    107           0                  433         1        \n",
              "35   58        10    136           1                  774         0        \n",
              "55   83       113    221           4                  375         0        \n",
              "88   43        13     58           0                  236         1        \n",
              "106 261        16    161           0                 2375         1        \n",
              "136  38        50     94           1                  320         0        \n",
              "167 259       111    240           2                 1131        11        \n",
              "215  79        19    102           0                  457         1        \n",
              "269  78        27    140           0                  488         2        \n",
              "270   1         0      2           0                    9         0        \n",
              "286  16         8     39           0                  117         0        \n",
              "385  33        23     57           1                  305         0        \n",
              "408  66        34    117           0                  512         2        \n",
              "426 138        50    152           0                 1771         0        \n",
              "437  22        10     70           0                  138         1        \n",
              "    Ejections FlagrantFouls GamesStarted\n",
              "32  0         0              0          \n",
              "35  0         0             59          \n",
              "55  0         0             66          \n",
              "88  0         0              1          \n",
              "106 0         0             79          \n",
              "136 0         0             13          \n",
              "167 0         0             81          \n",
              "215 0         0              1          \n",
              "269 0         0              3          \n",
              "270 0         0              0          \n",
              "286 0         0              1          \n",
              "385 0         0             25          \n",
              "408 0         0              0          \n",
              "426 0         0             80          \n",
              "437 0         0              0          "
            ],
            "text/latex": "A data.frame: 15 × 25\n\\begin{tabular}{r|lllllllllllllllllllll}\n  & League & Name & Team & Position & GamesPlayed & TotalMinutesPlayed & FieldGoalsMade & FieldGoalsAttempted & ThreesMade & ThreesAttempted & ⋯ & Steals & Turnovers & Blocks & PersonalFouls & Disqualifications & TotalPoints & Technicals & Ejections & FlagrantFouls & GamesStarted\\\\\n  & <fct> & <chr> & <fct> & <fct> & <int> & <int> & <int> & <int> & <int> & <int> & ⋯ & <int> & <int> & <int> & <int> & <int> & <int> & <int> & <int> & <int> & <int>\\\\\n\\hline\n\t32 & NBA & Leandro Barbosa  & GSW & SG & 68 & 1079 & 171 &  370 &  39 & 111 & ⋯ &  44 &  53 &  10 & 107 & 0 &  433 &  1 & 0 & 0 &  0\\\\\n\t35 & NBA & Harrison Barnes  & GSW & SF & 66 & 2043 & 295 &  633 &  82 & 214 & ⋯ &  41 &  58 &  10 & 136 & 1 &  774 &  0 & 0 & 0 & 59\\\\\n\t55 & NBA & Andrew Bogut     & GSW & C  & 70 & 1452 & 175 &  279 &   1 &   1 & ⋯ &  32 &  83 & 113 & 221 & 4 &  375 &  0 & 0 & 0 & 66\\\\\n\t88 & NBA & Ian Clark        & GSW & SG & 66 &  579 &  89 &  202 &  30 &  84 & ⋯ &  17 &  43 &  13 &  58 & 0 &  236 &  1 & 0 & 0 &  1\\\\\n\t106 & NBA & Stephen Curry    & GSW & PG & 79 & 2705 & 805 & 1597 & 402 & 887 & ⋯ & 169 & 261 &  16 & 161 & 0 & 2375 &  1 & 0 & 0 & 79\\\\\n\t136 & NBA & Festus Ezeli     & GSW & C  & 46 &  769 & 125 &  228 &   0 &   0 & ⋯ &  18 &  38 &  50 &  94 & 1 &  320 &  0 & 0 & 0 & 13\\\\\n\t167 & NBA & Draymond Green   & GSW & SF & 81 & 2807 & 401 &  819 & 100 & 258 & ⋯ & 118 & 259 & 111 & 240 & 2 & 1131 & 11 & 0 & 0 & 81\\\\\n\t215 & NBA & Andre Iguodala   & GSW & SG & 65 & 1736 & 176 &  368 &  54 & 154 & ⋯ &  73 &  79 &  19 & 102 & 0 &  457 &  1 & 0 & 0 &  1\\\\\n\t269 & NBA & Shaun Livingston & GSW & PG & 78 & 1512 & 203 &  379 &   2 &  12 & ⋯ &  57 &  78 &  27 & 140 & 0 &  488 &  2 & 0 & 0 &  3\\\\\n\t270 & NBA & Kevon Looney     & GSW & SF &  5 &   21 &   4 &    7 &   1 &   2 & ⋯ &   0 &   1 &   0 &   2 & 0 &    9 &  0 & 0 & 0 &  0\\\\\n\t286 & NBA & James Mcadoo     & GSW & SG & 41 &  265 &  45 &   84 &   1 &   2 & ⋯ &  10 &  16 &   8 &  39 & 0 &  117 &  0 & 0 & 0 &  1\\\\\n\t385 & NBA & Brandon Rush     & GSW & SG & 72 & 1050 & 111 &  260 &  65 & 157 & ⋯ &  21 &  33 &  23 &  57 & 1 &  305 &  0 & 0 & 0 & 25\\\\\n\t408 & NBA & Marrees Speights & GSW & C  & 72 &  836 & 197 &  456 &  24 &  62 & ⋯ &  19 &  66 &  34 & 117 & 0 &  512 &  2 & 0 & 0 &  0\\\\\n\t426 & NBA & Klay Thompson    & GSW & SG & 80 & 2661 & 651 & 1386 & 276 & 648 & ⋯ &  60 & 138 &  50 & 152 & 0 & 1771 &  0 & 0 & 0 & 80\\\\\n\t437 & NBA & Anderson Varejao & GSW & C  & 53 &  494 &  53 &  124 &   0 &   1 & ⋯ &  16 &  22 &  10 &  70 & 0 &  138 &  1 & 0 & 0 &  0\\\\\n\\end{tabular}\n",
            "text/markdown": "\nA data.frame: 15 × 25\n\n| <!--/--> | League &lt;fct&gt; | Name &lt;chr&gt; | Team &lt;fct&gt; | Position &lt;fct&gt; | GamesPlayed &lt;int&gt; | TotalMinutesPlayed &lt;int&gt; | FieldGoalsMade &lt;int&gt; | FieldGoalsAttempted &lt;int&gt; | ThreesMade &lt;int&gt; | ThreesAttempted &lt;int&gt; | ⋯ ⋯ | Steals &lt;int&gt; | Turnovers &lt;int&gt; | Blocks &lt;int&gt; | PersonalFouls &lt;int&gt; | Disqualifications &lt;int&gt; | TotalPoints &lt;int&gt; | Technicals &lt;int&gt; | Ejections &lt;int&gt; | FlagrantFouls &lt;int&gt; | GamesStarted &lt;int&gt; |\n|---|---|---|---|---|---|---|---|---|---|---|---|---|---|---|---|---|---|---|---|---|---|\n| 32 | NBA | Leandro Barbosa  | GSW | SG | 68 | 1079 | 171 |  370 |  39 | 111 | ⋯ |  44 |  53 |  10 | 107 | 0 |  433 |  1 | 0 | 0 |  0 |\n| 35 | NBA | Harrison Barnes  | GSW | SF | 66 | 2043 | 295 |  633 |  82 | 214 | ⋯ |  41 |  58 |  10 | 136 | 1 |  774 |  0 | 0 | 0 | 59 |\n| 55 | NBA | Andrew Bogut     | GSW | C  | 70 | 1452 | 175 |  279 |   1 |   1 | ⋯ |  32 |  83 | 113 | 221 | 4 |  375 |  0 | 0 | 0 | 66 |\n| 88 | NBA | Ian Clark        | GSW | SG | 66 |  579 |  89 |  202 |  30 |  84 | ⋯ |  17 |  43 |  13 |  58 | 0 |  236 |  1 | 0 | 0 |  1 |\n| 106 | NBA | Stephen Curry    | GSW | PG | 79 | 2705 | 805 | 1597 | 402 | 887 | ⋯ | 169 | 261 |  16 | 161 | 0 | 2375 |  1 | 0 | 0 | 79 |\n| 136 | NBA | Festus Ezeli     | GSW | C  | 46 |  769 | 125 |  228 |   0 |   0 | ⋯ |  18 |  38 |  50 |  94 | 1 |  320 |  0 | 0 | 0 | 13 |\n| 167 | NBA | Draymond Green   | GSW | SF | 81 | 2807 | 401 |  819 | 100 | 258 | ⋯ | 118 | 259 | 111 | 240 | 2 | 1131 | 11 | 0 | 0 | 81 |\n| 215 | NBA | Andre Iguodala   | GSW | SG | 65 | 1736 | 176 |  368 |  54 | 154 | ⋯ |  73 |  79 |  19 | 102 | 0 |  457 |  1 | 0 | 0 |  1 |\n| 269 | NBA | Shaun Livingston | GSW | PG | 78 | 1512 | 203 |  379 |   2 |  12 | ⋯ |  57 |  78 |  27 | 140 | 0 |  488 |  2 | 0 | 0 |  3 |\n| 270 | NBA | Kevon Looney     | GSW | SF |  5 |   21 |   4 |    7 |   1 |   2 | ⋯ |   0 |   1 |   0 |   2 | 0 |    9 |  0 | 0 | 0 |  0 |\n| 286 | NBA | James Mcadoo     | GSW | SG | 41 |  265 |  45 |   84 |   1 |   2 | ⋯ |  10 |  16 |   8 |  39 | 0 |  117 |  0 | 0 | 0 |  1 |\n| 385 | NBA | Brandon Rush     | GSW | SG | 72 | 1050 | 111 |  260 |  65 | 157 | ⋯ |  21 |  33 |  23 |  57 | 1 |  305 |  0 | 0 | 0 | 25 |\n| 408 | NBA | Marrees Speights | GSW | C  | 72 |  836 | 197 |  456 |  24 |  62 | ⋯ |  19 |  66 |  34 | 117 | 0 |  512 |  2 | 0 | 0 |  0 |\n| 426 | NBA | Klay Thompson    | GSW | SG | 80 | 2661 | 651 | 1386 | 276 | 648 | ⋯ |  60 | 138 |  50 | 152 | 0 | 1771 |  0 | 0 | 0 | 80 |\n| 437 | NBA | Anderson Varejao | GSW | C  | 53 |  494 |  53 |  124 |   0 |   1 | ⋯ |  16 |  22 |  10 |  70 | 0 |  138 |  1 | 0 | 0 |  0 |\n\n",
            "text/html": [
              "<table class=\"dataframe\">\n",
              "<caption>A data.frame: 15 × 25</caption>\n",
              "<thead>\n",
              "\t<tr><th></th><th scope=col>League</th><th scope=col>Name</th><th scope=col>Team</th><th scope=col>Position</th><th scope=col>GamesPlayed</th><th scope=col>TotalMinutesPlayed</th><th scope=col>FieldGoalsMade</th><th scope=col>FieldGoalsAttempted</th><th scope=col>ThreesMade</th><th scope=col>ThreesAttempted</th><th scope=col>⋯</th><th scope=col>Steals</th><th scope=col>Turnovers</th><th scope=col>Blocks</th><th scope=col>PersonalFouls</th><th scope=col>Disqualifications</th><th scope=col>TotalPoints</th><th scope=col>Technicals</th><th scope=col>Ejections</th><th scope=col>FlagrantFouls</th><th scope=col>GamesStarted</th></tr>\n",
              "\t<tr><th></th><th scope=col>&lt;fct&gt;</th><th scope=col>&lt;chr&gt;</th><th scope=col>&lt;fct&gt;</th><th scope=col>&lt;fct&gt;</th><th scope=col>&lt;int&gt;</th><th scope=col>&lt;int&gt;</th><th scope=col>&lt;int&gt;</th><th scope=col>&lt;int&gt;</th><th scope=col>&lt;int&gt;</th><th scope=col>&lt;int&gt;</th><th scope=col>⋯</th><th scope=col>&lt;int&gt;</th><th scope=col>&lt;int&gt;</th><th scope=col>&lt;int&gt;</th><th scope=col>&lt;int&gt;</th><th scope=col>&lt;int&gt;</th><th scope=col>&lt;int&gt;</th><th scope=col>&lt;int&gt;</th><th scope=col>&lt;int&gt;</th><th scope=col>&lt;int&gt;</th><th scope=col>&lt;int&gt;</th></tr>\n",
              "</thead>\n",
              "<tbody>\n",
              "\t<tr><th scope=row>32</th><td>NBA</td><td>Leandro Barbosa </td><td>GSW</td><td>SG</td><td>68</td><td>1079</td><td>171</td><td> 370</td><td> 39</td><td>111</td><td>⋯</td><td> 44</td><td> 53</td><td> 10</td><td>107</td><td>0</td><td> 433</td><td> 1</td><td>0</td><td>0</td><td> 0</td></tr>\n",
              "\t<tr><th scope=row>35</th><td>NBA</td><td>Harrison Barnes </td><td>GSW</td><td>SF</td><td>66</td><td>2043</td><td>295</td><td> 633</td><td> 82</td><td>214</td><td>⋯</td><td> 41</td><td> 58</td><td> 10</td><td>136</td><td>1</td><td> 774</td><td> 0</td><td>0</td><td>0</td><td>59</td></tr>\n",
              "\t<tr><th scope=row>55</th><td>NBA</td><td>Andrew Bogut    </td><td>GSW</td><td>C </td><td>70</td><td>1452</td><td>175</td><td> 279</td><td>  1</td><td>  1</td><td>⋯</td><td> 32</td><td> 83</td><td>113</td><td>221</td><td>4</td><td> 375</td><td> 0</td><td>0</td><td>0</td><td>66</td></tr>\n",
              "\t<tr><th scope=row>88</th><td>NBA</td><td>Ian Clark       </td><td>GSW</td><td>SG</td><td>66</td><td> 579</td><td> 89</td><td> 202</td><td> 30</td><td> 84</td><td>⋯</td><td> 17</td><td> 43</td><td> 13</td><td> 58</td><td>0</td><td> 236</td><td> 1</td><td>0</td><td>0</td><td> 1</td></tr>\n",
              "\t<tr><th scope=row>106</th><td>NBA</td><td>Stephen Curry   </td><td>GSW</td><td>PG</td><td>79</td><td>2705</td><td>805</td><td>1597</td><td>402</td><td>887</td><td>⋯</td><td>169</td><td>261</td><td> 16</td><td>161</td><td>0</td><td>2375</td><td> 1</td><td>0</td><td>0</td><td>79</td></tr>\n",
              "\t<tr><th scope=row>136</th><td>NBA</td><td>Festus Ezeli    </td><td>GSW</td><td>C </td><td>46</td><td> 769</td><td>125</td><td> 228</td><td>  0</td><td>  0</td><td>⋯</td><td> 18</td><td> 38</td><td> 50</td><td> 94</td><td>1</td><td> 320</td><td> 0</td><td>0</td><td>0</td><td>13</td></tr>\n",
              "\t<tr><th scope=row>167</th><td>NBA</td><td>Draymond Green  </td><td>GSW</td><td>SF</td><td>81</td><td>2807</td><td>401</td><td> 819</td><td>100</td><td>258</td><td>⋯</td><td>118</td><td>259</td><td>111</td><td>240</td><td>2</td><td>1131</td><td>11</td><td>0</td><td>0</td><td>81</td></tr>\n",
              "\t<tr><th scope=row>215</th><td>NBA</td><td>Andre Iguodala  </td><td>GSW</td><td>SG</td><td>65</td><td>1736</td><td>176</td><td> 368</td><td> 54</td><td>154</td><td>⋯</td><td> 73</td><td> 79</td><td> 19</td><td>102</td><td>0</td><td> 457</td><td> 1</td><td>0</td><td>0</td><td> 1</td></tr>\n",
              "\t<tr><th scope=row>269</th><td>NBA</td><td>Shaun Livingston</td><td>GSW</td><td>PG</td><td>78</td><td>1512</td><td>203</td><td> 379</td><td>  2</td><td> 12</td><td>⋯</td><td> 57</td><td> 78</td><td> 27</td><td>140</td><td>0</td><td> 488</td><td> 2</td><td>0</td><td>0</td><td> 3</td></tr>\n",
              "\t<tr><th scope=row>270</th><td>NBA</td><td>Kevon Looney    </td><td>GSW</td><td>SF</td><td> 5</td><td>  21</td><td>  4</td><td>   7</td><td>  1</td><td>  2</td><td>⋯</td><td>  0</td><td>  1</td><td>  0</td><td>  2</td><td>0</td><td>   9</td><td> 0</td><td>0</td><td>0</td><td> 0</td></tr>\n",
              "\t<tr><th scope=row>286</th><td>NBA</td><td>James Mcadoo    </td><td>GSW</td><td>SG</td><td>41</td><td> 265</td><td> 45</td><td>  84</td><td>  1</td><td>  2</td><td>⋯</td><td> 10</td><td> 16</td><td>  8</td><td> 39</td><td>0</td><td> 117</td><td> 0</td><td>0</td><td>0</td><td> 1</td></tr>\n",
              "\t<tr><th scope=row>385</th><td>NBA</td><td>Brandon Rush    </td><td>GSW</td><td>SG</td><td>72</td><td>1050</td><td>111</td><td> 260</td><td> 65</td><td>157</td><td>⋯</td><td> 21</td><td> 33</td><td> 23</td><td> 57</td><td>1</td><td> 305</td><td> 0</td><td>0</td><td>0</td><td>25</td></tr>\n",
              "\t<tr><th scope=row>408</th><td>NBA</td><td>Marrees Speights</td><td>GSW</td><td>C </td><td>72</td><td> 836</td><td>197</td><td> 456</td><td> 24</td><td> 62</td><td>⋯</td><td> 19</td><td> 66</td><td> 34</td><td>117</td><td>0</td><td> 512</td><td> 2</td><td>0</td><td>0</td><td> 0</td></tr>\n",
              "\t<tr><th scope=row>426</th><td>NBA</td><td>Klay Thompson   </td><td>GSW</td><td>SG</td><td>80</td><td>2661</td><td>651</td><td>1386</td><td>276</td><td>648</td><td>⋯</td><td> 60</td><td>138</td><td> 50</td><td>152</td><td>0</td><td>1771</td><td> 0</td><td>0</td><td>0</td><td>80</td></tr>\n",
              "\t<tr><th scope=row>437</th><td>NBA</td><td>Anderson Varejao</td><td>GSW</td><td>C </td><td>53</td><td> 494</td><td> 53</td><td> 124</td><td>  0</td><td>  1</td><td>⋯</td><td> 16</td><td> 22</td><td> 10</td><td> 70</td><td>0</td><td> 138</td><td> 1</td><td>0</td><td>0</td><td> 0</td></tr>\n",
              "</tbody>\n",
              "</table>\n"
            ]
          },
          "metadata": {
            "tags": []
          }
        }
      ]
    }
  ]
}